{
  "cells": [
    {
      "cell_type": "markdown",
      "metadata": {
        "id": "f10oDgpXsOaT"
      },
      "source": [
        "Download main libraries and data"
      ]
    },
    {
      "cell_type": "code",
      "execution_count": 1,
      "metadata": {
        "id": "o82rwAXKjHEf",
        "colab": {
          "base_uri": "https://localhost:8080/"
        },
        "outputId": "2bed3aa9-3f0c-421c-a9b6-77835e1a0468"
      },
      "outputs": [
        {
          "output_type": "stream",
          "name": "stdout",
          "text": [
            "Looking in indexes: https://pypi.org/simple, https://us-python.pkg.dev/colab-wheels/public/simple/\n",
            "Collecting yargy\n",
            "  Downloading yargy-0.15.1-py3-none-any.whl (33 kB)\n",
            "Collecting pymorphy2\n",
            "  Downloading pymorphy2-0.9.1-py3-none-any.whl (55 kB)\n",
            "\u001b[2K     \u001b[90m━━━━━━━━━━━━━━━━━━━━━━━━━━━━━━━━━━━━━━━━\u001b[0m \u001b[32m55.5/55.5 KB\u001b[0m \u001b[31m3.0 MB/s\u001b[0m eta \u001b[36m0:00:00\u001b[0m\n",
            "\u001b[?25hCollecting dawg-python>=0.7.1\n",
            "  Downloading DAWG_Python-0.7.2-py2.py3-none-any.whl (11 kB)\n",
            "Collecting pymorphy2-dicts-ru<3.0,>=2.4\n",
            "  Downloading pymorphy2_dicts_ru-2.4.417127.4579844-py2.py3-none-any.whl (8.2 MB)\n",
            "\u001b[2K     \u001b[90m━━━━━━━━━━━━━━━━━━━━━━━━━━━━━━━━━━━━━━━━\u001b[0m \u001b[32m8.2/8.2 MB\u001b[0m \u001b[31m45.7 MB/s\u001b[0m eta \u001b[36m0:00:00\u001b[0m\n",
            "\u001b[?25hCollecting docopt>=0.6\n",
            "  Downloading docopt-0.6.2.tar.gz (25 kB)\n",
            "  Preparing metadata (setup.py) ... \u001b[?25l\u001b[?25hdone\n",
            "Building wheels for collected packages: docopt\n",
            "  Building wheel for docopt (setup.py) ... \u001b[?25l\u001b[?25hdone\n",
            "  Created wheel for docopt: filename=docopt-0.6.2-py2.py3-none-any.whl size=13721 sha256=318e17f51d5316736ae471e436c21eb083c705c62003276dafb95377ea7893a4\n",
            "  Stored in directory: /root/.cache/pip/wheels/70/4a/46/1309fc853b8d395e60bafaf1b6df7845bdd82c95fd59dd8d2b\n",
            "Successfully built docopt\n",
            "Installing collected packages: pymorphy2-dicts-ru, docopt, dawg-python, pymorphy2, yargy\n",
            "Successfully installed dawg-python-0.7.2 docopt-0.6.2 pymorphy2-0.9.1 pymorphy2-dicts-ru-2.4.417127.4579844 yargy-0.15.1\n"
          ]
        },
        {
          "output_type": "stream",
          "name": "stderr",
          "text": [
            "[nltk_data] Downloading package stopwords to /root/nltk_data...\n",
            "[nltk_data]   Unzipping corpora/stopwords.zip.\n",
            "[nltk_data] Downloading package wordnet to /root/nltk_data...\n"
          ]
        },
        {
          "output_type": "execute_result",
          "data": {
            "text/plain": [
              "True"
            ]
          },
          "metadata": {},
          "execution_count": 1
        }
      ],
      "source": [
        "#install packages\n",
        "import pandas as pd\n",
        "import numpy as np\n",
        "import matplotlib.pyplot as plt\n",
        "import seaborn as sns\n",
        "from sklearn.feature_selection import chi2\n",
        "from sklearn.feature_extraction.text import CountVectorizer \n",
        "from sklearn.model_selection import train_test_split\n",
        "from sklearn.linear_model import LinearRegression\n",
        "from sklearn.linear_model import Lasso\n",
        "from sklearn.ensemble import RandomForestRegressor\n",
        "from sklearn.model_selection import GridSearchCV\n",
        "from sklearn.model_selection import RepeatedKFold\n",
        "\n",
        "\n",
        "#!pip install --user nltk\n",
        "!pip install yargy\n",
        "#!pip install --user pymorphy2\n",
        "#!pip install --user pymystem3\n",
        "import nltk\n",
        "from nltk.tokenize import RegexpTokenizer\n",
        "from nltk.stem import WordNetLemmatizer,PorterStemmer\n",
        "from nltk.stem.snowball import SnowballStemmer\n",
        "from nltk.corpus import stopwords\n",
        "from nltk.tokenize import word_tokenize, ToktokTokenizer\n",
        "from yargy.tokenizer import MorphTokenizer\n",
        "import re\n",
        "from pymorphy2 import MorphAnalyzer\n",
        "from pymystem3 import Mystem\n",
        "\n",
        "#import nltk\n",
        "nltk.download(\"stopwords\")\n",
        "nltk.download('wordnet')"
      ]
    },
    {
      "cell_type": "code",
      "execution_count": 2,
      "metadata": {
        "colab": {
          "base_uri": "https://localhost:8080/"
        },
        "id": "BLwl1mNWjbi8",
        "outputId": "b6a3e2df-2ee7-4843-c5b4-d9e321602acb"
      },
      "outputs": [
        {
          "output_type": "stream",
          "name": "stdout",
          "text": [
            "Mounted at /content/drive\n"
          ]
        }
      ],
      "source": [
        "#google drive\n",
        "FOLDER = \"данные для проекта\" \n",
        "\n",
        "PATH = \"drive/MyDrive/\" + FOLDER  + \"/\"\n",
        "from google.colab import drive\n",
        "drive.mount('/content/drive')\n",
        "import sys\n",
        "sys.path.append(PATH)"
      ]
    },
    {
      "cell_type": "code",
      "execution_count": 3,
      "metadata": {
        "id": "7_FvrZsHjblt"
      },
      "outputs": [],
      "source": [
        "df = pd.read_csv (PATH + \"Real Estate Data V21.csv\")"
      ]
    },
    {
      "cell_type": "code",
      "execution_count": 4,
      "metadata": {
        "colab": {
          "base_uri": "https://localhost:8080/",
          "height": 468
        },
        "id": "NWWDmSaqjbo9",
        "outputId": "fadd289a-df20-40a8-c809-899f8a75fe86"
      },
      "outputs": [
        {
          "output_type": "execute_result",
          "data": {
            "text/plain": [
              "                                                    Name  \\\n",
              "0                                       Casagrand ECR 14   \n",
              "1                  Ramanathan Nagar, Pozhichalur,Chennai   \n",
              "2                                            DAC Prapthi   \n",
              "3                Naveenilaya,Chepauk, Triplicane,Chennai   \n",
              "4                               VGN Spring Field Phase 1   \n",
              "...                                                  ...   \n",
              "14523      Krishna Park Extension, Tilak Nagar,New Delhi   \n",
              "14524                   Rawta, Jaffarpur Kalan,New Delhi   \n",
              "14525                Rani Garden, Geeta Colony,New Delhi   \n",
              "14526  Lig flat rohini,Sector 16E, Sector 16 Rohini,N...   \n",
              "14527               Sector 3B, Sector 3 Rohini,New Delhi   \n",
              "\n",
              "                                          Property Title     Price  \\\n",
              "0      4 BHK Flat for sale in Kanathur Reddikuppam, C...  ₹1.99 Cr   \n",
              "1      10 BHK Independent House for sale in Pozhichal...  ₹2.25 Cr   \n",
              "2          3 BHK Flat for sale in West Tambaram, Chennai   ₹1.0 Cr   \n",
              "3      7 BHK Independent House for sale in Triplicane...  ₹3.33 Cr   \n",
              "4                  2 BHK Flat for sale in Avadi, Chennai   ₹48.0 L   \n",
              "...                                                  ...       ...   \n",
              "14523      2 BHK Flat for sale in Tilak Nagar, New Delhi   ₹40.0 L   \n",
              "14524  1 BHK Independent House for sale in Jaffarpur ...   ₹14.0 L   \n",
              "14525     1 BHK Flat for sale in Geeta Colony, New Delhi   ₹30.0 L   \n",
              "14526  3 BHK Flat for sale in Sector 16 Rohini, New D...   ₹60.0 L   \n",
              "14527  1 RK Independent House for sale in Sector 3 Ro...   ₹55.0 L   \n",
              "\n",
              "                                                Location  Total_Area  \\\n",
              "0                          Kanathur Reddikuppam, Chennai        2583   \n",
              "1                  Ramanathan Nagar, Pozhichalur,Chennai        7000   \n",
              "2               Kasthuribai Nagar, West Tambaram,Chennai        1320   \n",
              "3                Naveenilaya,Chepauk, Triplicane,Chennai        4250   \n",
              "4                                         Avadi, Chennai         960   \n",
              "...                                                  ...         ...   \n",
              "14523      Krishna Park Extension, Tilak Nagar,New Delhi        1053   \n",
              "14524                   Rawta, Jaffarpur Kalan,New Delhi         472   \n",
              "14525                Rani Garden, Geeta Colony,New Delhi         378   \n",
              "14526  Lig flat rohini,Sector 16E, Sector 16 Rohini,N...         700   \n",
              "14527               Sector 3B, Sector 3 Rohini,New Delhi         344   \n",
              "\n",
              "       Price_per_SQFT                                        Description  \\\n",
              "0              7700.0  Best 4 BHK Apartment for modern-day lifestyle ...   \n",
              "1              3210.0  Looking for a 10 BHK Independent House for sal...   \n",
              "2              7580.0  Property for sale in Tambaram, Chennai. This 3...   \n",
              "3              7840.0  Entire Building for sale with 7 units of singl...   \n",
              "4              5000.0  Property for sale in Avadi, Chennai. This 2 BH...   \n",
              "...               ...                                                ...   \n",
              "14523          3800.0  Looking for a good 2 BHK Apartment in Tilak Na...   \n",
              "14524          2970.0  1 BHK Independent House for sale in Jaffarpur ...   \n",
              "14525          7940.0  Property for sale in Geeta Colony, Delhi. This...   \n",
              "14526          8570.0  Check out this 3 BHK Apartment for sale in Roh...   \n",
              "14527         15990.0  This is an independent DDA house(in raw condit...   \n",
              "\n",
              "       Baths Balcony  \n",
              "0          4     Yes  \n",
              "1          6     Yes  \n",
              "2          3      No  \n",
              "3          5     Yes  \n",
              "4          3     Yes  \n",
              "...      ...     ...  \n",
              "14523      3     Yes  \n",
              "14524      2     Yes  \n",
              "14525      1     Yes  \n",
              "14526      2     Yes  \n",
              "14527      1     Yes  \n",
              "\n",
              "[14528 rows x 9 columns]"
            ],
            "text/html": [
              "\n",
              "  <div id=\"df-938e7420-0063-4850-8148-53a71f48effa\">\n",
              "    <div class=\"colab-df-container\">\n",
              "      <div>\n",
              "<style scoped>\n",
              "    .dataframe tbody tr th:only-of-type {\n",
              "        vertical-align: middle;\n",
              "    }\n",
              "\n",
              "    .dataframe tbody tr th {\n",
              "        vertical-align: top;\n",
              "    }\n",
              "\n",
              "    .dataframe thead th {\n",
              "        text-align: right;\n",
              "    }\n",
              "</style>\n",
              "<table border=\"1\" class=\"dataframe\">\n",
              "  <thead>\n",
              "    <tr style=\"text-align: right;\">\n",
              "      <th></th>\n",
              "      <th>Name</th>\n",
              "      <th>Property Title</th>\n",
              "      <th>Price</th>\n",
              "      <th>Location</th>\n",
              "      <th>Total_Area</th>\n",
              "      <th>Price_per_SQFT</th>\n",
              "      <th>Description</th>\n",
              "      <th>Baths</th>\n",
              "      <th>Balcony</th>\n",
              "    </tr>\n",
              "  </thead>\n",
              "  <tbody>\n",
              "    <tr>\n",
              "      <th>0</th>\n",
              "      <td>Casagrand ECR 14</td>\n",
              "      <td>4 BHK Flat for sale in Kanathur Reddikuppam, C...</td>\n",
              "      <td>₹1.99 Cr</td>\n",
              "      <td>Kanathur Reddikuppam, Chennai</td>\n",
              "      <td>2583</td>\n",
              "      <td>7700.0</td>\n",
              "      <td>Best 4 BHK Apartment for modern-day lifestyle ...</td>\n",
              "      <td>4</td>\n",
              "      <td>Yes</td>\n",
              "    </tr>\n",
              "    <tr>\n",
              "      <th>1</th>\n",
              "      <td>Ramanathan Nagar, Pozhichalur,Chennai</td>\n",
              "      <td>10 BHK Independent House for sale in Pozhichal...</td>\n",
              "      <td>₹2.25 Cr</td>\n",
              "      <td>Ramanathan Nagar, Pozhichalur,Chennai</td>\n",
              "      <td>7000</td>\n",
              "      <td>3210.0</td>\n",
              "      <td>Looking for a 10 BHK Independent House for sal...</td>\n",
              "      <td>6</td>\n",
              "      <td>Yes</td>\n",
              "    </tr>\n",
              "    <tr>\n",
              "      <th>2</th>\n",
              "      <td>DAC Prapthi</td>\n",
              "      <td>3 BHK Flat for sale in West Tambaram, Chennai</td>\n",
              "      <td>₹1.0 Cr</td>\n",
              "      <td>Kasthuribai Nagar, West Tambaram,Chennai</td>\n",
              "      <td>1320</td>\n",
              "      <td>7580.0</td>\n",
              "      <td>Property for sale in Tambaram, Chennai. This 3...</td>\n",
              "      <td>3</td>\n",
              "      <td>No</td>\n",
              "    </tr>\n",
              "    <tr>\n",
              "      <th>3</th>\n",
              "      <td>Naveenilaya,Chepauk, Triplicane,Chennai</td>\n",
              "      <td>7 BHK Independent House for sale in Triplicane...</td>\n",
              "      <td>₹3.33 Cr</td>\n",
              "      <td>Naveenilaya,Chepauk, Triplicane,Chennai</td>\n",
              "      <td>4250</td>\n",
              "      <td>7840.0</td>\n",
              "      <td>Entire Building for sale with 7 units of singl...</td>\n",
              "      <td>5</td>\n",
              "      <td>Yes</td>\n",
              "    </tr>\n",
              "    <tr>\n",
              "      <th>4</th>\n",
              "      <td>VGN Spring Field Phase 1</td>\n",
              "      <td>2 BHK Flat for sale in Avadi, Chennai</td>\n",
              "      <td>₹48.0 L</td>\n",
              "      <td>Avadi, Chennai</td>\n",
              "      <td>960</td>\n",
              "      <td>5000.0</td>\n",
              "      <td>Property for sale in Avadi, Chennai. This 2 BH...</td>\n",
              "      <td>3</td>\n",
              "      <td>Yes</td>\n",
              "    </tr>\n",
              "    <tr>\n",
              "      <th>...</th>\n",
              "      <td>...</td>\n",
              "      <td>...</td>\n",
              "      <td>...</td>\n",
              "      <td>...</td>\n",
              "      <td>...</td>\n",
              "      <td>...</td>\n",
              "      <td>...</td>\n",
              "      <td>...</td>\n",
              "      <td>...</td>\n",
              "    </tr>\n",
              "    <tr>\n",
              "      <th>14523</th>\n",
              "      <td>Krishna Park Extension, Tilak Nagar,New Delhi</td>\n",
              "      <td>2 BHK Flat for sale in Tilak Nagar, New Delhi</td>\n",
              "      <td>₹40.0 L</td>\n",
              "      <td>Krishna Park Extension, Tilak Nagar,New Delhi</td>\n",
              "      <td>1053</td>\n",
              "      <td>3800.0</td>\n",
              "      <td>Looking for a good 2 BHK Apartment in Tilak Na...</td>\n",
              "      <td>3</td>\n",
              "      <td>Yes</td>\n",
              "    </tr>\n",
              "    <tr>\n",
              "      <th>14524</th>\n",
              "      <td>Rawta, Jaffarpur Kalan,New Delhi</td>\n",
              "      <td>1 BHK Independent House for sale in Jaffarpur ...</td>\n",
              "      <td>₹14.0 L</td>\n",
              "      <td>Rawta, Jaffarpur Kalan,New Delhi</td>\n",
              "      <td>472</td>\n",
              "      <td>2970.0</td>\n",
              "      <td>1 BHK Independent House for sale in Jaffarpur ...</td>\n",
              "      <td>2</td>\n",
              "      <td>Yes</td>\n",
              "    </tr>\n",
              "    <tr>\n",
              "      <th>14525</th>\n",
              "      <td>Rani Garden, Geeta Colony,New Delhi</td>\n",
              "      <td>1 BHK Flat for sale in Geeta Colony, New Delhi</td>\n",
              "      <td>₹30.0 L</td>\n",
              "      <td>Rani Garden, Geeta Colony,New Delhi</td>\n",
              "      <td>378</td>\n",
              "      <td>7940.0</td>\n",
              "      <td>Property for sale in Geeta Colony, Delhi. This...</td>\n",
              "      <td>1</td>\n",
              "      <td>Yes</td>\n",
              "    </tr>\n",
              "    <tr>\n",
              "      <th>14526</th>\n",
              "      <td>Lig flat rohini,Sector 16E, Sector 16 Rohini,N...</td>\n",
              "      <td>3 BHK Flat for sale in Sector 16 Rohini, New D...</td>\n",
              "      <td>₹60.0 L</td>\n",
              "      <td>Lig flat rohini,Sector 16E, Sector 16 Rohini,N...</td>\n",
              "      <td>700</td>\n",
              "      <td>8570.0</td>\n",
              "      <td>Check out this 3 BHK Apartment for sale in Roh...</td>\n",
              "      <td>2</td>\n",
              "      <td>Yes</td>\n",
              "    </tr>\n",
              "    <tr>\n",
              "      <th>14527</th>\n",
              "      <td>Sector 3B, Sector 3 Rohini,New Delhi</td>\n",
              "      <td>1 RK Independent House for sale in Sector 3 Ro...</td>\n",
              "      <td>₹55.0 L</td>\n",
              "      <td>Sector 3B, Sector 3 Rohini,New Delhi</td>\n",
              "      <td>344</td>\n",
              "      <td>15990.0</td>\n",
              "      <td>This is an independent DDA house(in raw condit...</td>\n",
              "      <td>1</td>\n",
              "      <td>Yes</td>\n",
              "    </tr>\n",
              "  </tbody>\n",
              "</table>\n",
              "<p>14528 rows × 9 columns</p>\n",
              "</div>\n",
              "      <button class=\"colab-df-convert\" onclick=\"convertToInteractive('df-938e7420-0063-4850-8148-53a71f48effa')\"\n",
              "              title=\"Convert this dataframe to an interactive table.\"\n",
              "              style=\"display:none;\">\n",
              "        \n",
              "  <svg xmlns=\"http://www.w3.org/2000/svg\" height=\"24px\"viewBox=\"0 0 24 24\"\n",
              "       width=\"24px\">\n",
              "    <path d=\"M0 0h24v24H0V0z\" fill=\"none\"/>\n",
              "    <path d=\"M18.56 5.44l.94 2.06.94-2.06 2.06-.94-2.06-.94-.94-2.06-.94 2.06-2.06.94zm-11 1L8.5 8.5l.94-2.06 2.06-.94-2.06-.94L8.5 2.5l-.94 2.06-2.06.94zm10 10l.94 2.06.94-2.06 2.06-.94-2.06-.94-.94-2.06-.94 2.06-2.06.94z\"/><path d=\"M17.41 7.96l-1.37-1.37c-.4-.4-.92-.59-1.43-.59-.52 0-1.04.2-1.43.59L10.3 9.45l-7.72 7.72c-.78.78-.78 2.05 0 2.83L4 21.41c.39.39.9.59 1.41.59.51 0 1.02-.2 1.41-.59l7.78-7.78 2.81-2.81c.8-.78.8-2.07 0-2.86zM5.41 20L4 18.59l7.72-7.72 1.47 1.35L5.41 20z\"/>\n",
              "  </svg>\n",
              "      </button>\n",
              "      \n",
              "  <style>\n",
              "    .colab-df-container {\n",
              "      display:flex;\n",
              "      flex-wrap:wrap;\n",
              "      gap: 12px;\n",
              "    }\n",
              "\n",
              "    .colab-df-convert {\n",
              "      background-color: #E8F0FE;\n",
              "      border: none;\n",
              "      border-radius: 50%;\n",
              "      cursor: pointer;\n",
              "      display: none;\n",
              "      fill: #1967D2;\n",
              "      height: 32px;\n",
              "      padding: 0 0 0 0;\n",
              "      width: 32px;\n",
              "    }\n",
              "\n",
              "    .colab-df-convert:hover {\n",
              "      background-color: #E2EBFA;\n",
              "      box-shadow: 0px 1px 2px rgba(60, 64, 67, 0.3), 0px 1px 3px 1px rgba(60, 64, 67, 0.15);\n",
              "      fill: #174EA6;\n",
              "    }\n",
              "\n",
              "    [theme=dark] .colab-df-convert {\n",
              "      background-color: #3B4455;\n",
              "      fill: #D2E3FC;\n",
              "    }\n",
              "\n",
              "    [theme=dark] .colab-df-convert:hover {\n",
              "      background-color: #434B5C;\n",
              "      box-shadow: 0px 1px 3px 1px rgba(0, 0, 0, 0.15);\n",
              "      filter: drop-shadow(0px 1px 2px rgba(0, 0, 0, 0.3));\n",
              "      fill: #FFFFFF;\n",
              "    }\n",
              "  </style>\n",
              "\n",
              "      <script>\n",
              "        const buttonEl =\n",
              "          document.querySelector('#df-938e7420-0063-4850-8148-53a71f48effa button.colab-df-convert');\n",
              "        buttonEl.style.display =\n",
              "          google.colab.kernel.accessAllowed ? 'block' : 'none';\n",
              "\n",
              "        async function convertToInteractive(key) {\n",
              "          const element = document.querySelector('#df-938e7420-0063-4850-8148-53a71f48effa');\n",
              "          const dataTable =\n",
              "            await google.colab.kernel.invokeFunction('convertToInteractive',\n",
              "                                                     [key], {});\n",
              "          if (!dataTable) return;\n",
              "\n",
              "          const docLinkHtml = 'Like what you see? Visit the ' +\n",
              "            '<a target=\"_blank\" href=https://colab.research.google.com/notebooks/data_table.ipynb>data table notebook</a>'\n",
              "            + ' to learn more about interactive tables.';\n",
              "          element.innerHTML = '';\n",
              "          dataTable['output_type'] = 'display_data';\n",
              "          await google.colab.output.renderOutput(dataTable, element);\n",
              "          const docLink = document.createElement('div');\n",
              "          docLink.innerHTML = docLinkHtml;\n",
              "          element.appendChild(docLink);\n",
              "        }\n",
              "      </script>\n",
              "    </div>\n",
              "  </div>\n",
              "  "
            ]
          },
          "metadata": {},
          "execution_count": 4
        }
      ],
      "source": [
        "df #we need price_per_SQRT, Description, Property title and total_area"
      ]
    },
    {
      "cell_type": "code",
      "execution_count": 6,
      "metadata": {
        "colab": {
          "base_uri": "https://localhost:8080/"
        },
        "id": "ncP0Pd4Ycr8G",
        "outputId": "005a171c-d010-43b4-c4b4-7fa5692c5f3d"
      },
      "outputs": [
        {
          "output_type": "execute_result",
          "data": {
            "text/plain": [
              "Name              0\n",
              "Property Title    0\n",
              "Price             0\n",
              "Location          0\n",
              "Total_Area        0\n",
              "Price_per_SQFT    0\n",
              "Description       0\n",
              "Baths             0\n",
              "Balcony           0\n",
              "dtype: int64"
            ]
          },
          "metadata": {},
          "execution_count": 6
        }
      ],
      "source": [
        "df.isna().sum()"
      ]
    },
    {
      "cell_type": "code",
      "execution_count": 7,
      "metadata": {
        "id": "qSVoFvt1c4qV"
      },
      "outputs": [],
      "source": [
        "df = df[[\"Property Title\", \"Total_Area\", \"Price_per_SQFT\", \"Description\"]]\n",
        "df1 = df.head(n = 1000)"
      ]
    },
    {
      "cell_type": "markdown",
      "metadata": {
        "id": "adO-O81VsLkH"
      },
      "source": [
        "Text Preprocessing"
      ]
    },
    {
      "cell_type": "code",
      "execution_count": 8,
      "metadata": {
        "id": "1wvESO1yhWJg",
        "colab": {
          "base_uri": "https://localhost:8080/"
        },
        "outputId": "0300c7d1-acad-48a6-aca9-0044825ba389"
      },
      "outputs": [
        {
          "output_type": "stream",
          "name": "stderr",
          "text": [
            "Installing mystem to /root/.local/bin/mystem from http://download.cdn.yandex.net/mystem/mystem-3.1-linux-64bit.tar.gz\n"
          ]
        }
      ],
      "source": [
        "#preprocess data\n",
        "res = []\n",
        "tknzr = MorphTokenizer()\n",
        "lemmatizer = WordNetLemmatizer()\n",
        "stemmer = SnowballStemmer(\"english\")\n",
        "morph = Mystem()\n",
        "for col_name, data in df[\"Description\"].items():\n",
        "  punct = '[!\"#$%&()*\\+,-\\./:;<=>?@\\[\\]^_`{|}~„“«»†*\\—/\\-‘’]' #getting rid of punctuation\n",
        "  clean_text = re.sub(punct, r' ', data)\n",
        "  clean_text = re.sub('[0-9]+', '', clean_text) #getting rid of numbers\n",
        "\n",
        "  clean_text = [_.value for _ in tknzr(clean_text)] #tokenization\n",
        "\n",
        "  clean_text = [word for word in clean_text if len(word) > 2 if not word in stopwords.words('english')] #deleting stop words\n",
        "\n",
        "  #clean_text = [stemmer.stem(word) for word in clean_text] #stemming\n",
        "\n",
        "  clean_text = [lemmatizer.lemmatize(word) for word in clean_text] #lemmatization\n",
        "  \n",
        "  clean_text = [word.lower() for word in clean_text if word != ''] #convert to lower cases\n",
        "\n",
        "  clean_text = ' '.join(clean_text) #joining tokens back to a string\n",
        "\n",
        "  res.append(clean_text)"
      ]
    },
    {
      "cell_type": "code",
      "execution_count": 9,
      "metadata": {
        "colab": {
          "base_uri": "https://localhost:8080/",
          "height": 528
        },
        "id": "2tuvXMImhtRB",
        "outputId": "ef62a659-7e6c-4f96-a13e-f88e70e3bc39"
      },
      "outputs": [
        {
          "output_type": "stream",
          "name": "stderr",
          "text": [
            "<ipython-input-9-429aab7bdabe>:1: SettingWithCopyWarning: \n",
            "A value is trying to be set on a copy of a slice from a DataFrame.\n",
            "Try using .loc[row_indexer,col_indexer] = value instead\n",
            "\n",
            "See the caveats in the documentation: https://pandas.pydata.org/pandas-docs/stable/user_guide/indexing.html#returning-a-view-versus-a-copy\n",
            "  df[\"cleanedtext\"] = res\n"
          ]
        },
        {
          "output_type": "execute_result",
          "data": {
            "text/plain": [
              "                                          Property Title  Total_Area  \\\n",
              "0      4 BHK Flat for sale in Kanathur Reddikuppam, C...        2583   \n",
              "1      10 BHK Independent House for sale in Pozhichal...        7000   \n",
              "2          3 BHK Flat for sale in West Tambaram, Chennai        1320   \n",
              "3      7 BHK Independent House for sale in Triplicane...        4250   \n",
              "4                  2 BHK Flat for sale in Avadi, Chennai         960   \n",
              "...                                                  ...         ...   \n",
              "14523      2 BHK Flat for sale in Tilak Nagar, New Delhi        1053   \n",
              "14524  1 BHK Independent House for sale in Jaffarpur ...         472   \n",
              "14525     1 BHK Flat for sale in Geeta Colony, New Delhi         378   \n",
              "14526  3 BHK Flat for sale in Sector 16 Rohini, New D...         700   \n",
              "14527  1 RK Independent House for sale in Sector 3 Ro...         344   \n",
              "\n",
              "       Price_per_SQFT                                        Description  \\\n",
              "0              7700.0  Best 4 BHK Apartment for modern-day lifestyle ...   \n",
              "1              3210.0  Looking for a 10 BHK Independent House for sal...   \n",
              "2              7580.0  Property for sale in Tambaram, Chennai. This 3...   \n",
              "3              7840.0  Entire Building for sale with 7 units of singl...   \n",
              "4              5000.0  Property for sale in Avadi, Chennai. This 2 BH...   \n",
              "...               ...                                                ...   \n",
              "14523          3800.0  Looking for a good 2 BHK Apartment in Tilak Na...   \n",
              "14524          2970.0  1 BHK Independent House for sale in Jaffarpur ...   \n",
              "14525          7940.0  Property for sale in Geeta Colony, Delhi. This...   \n",
              "14526          8570.0  Check out this 3 BHK Apartment for sale in Roh...   \n",
              "14527         15990.0  This is an independent DDA house(in raw condit...   \n",
              "\n",
              "                                             cleanedtext  \n",
              "0      best bhk apartment modern day lifestyle availa...  \n",
              "1      looking bhk independent house sale chennai you...  \n",
              "2      property sale tambaram chennai this bhk apartm...  \n",
              "3      entire building sale unit single bedroom unit ...  \n",
              "4      property sale avadi chennai this bhk apartment...  \n",
              "...                                                  ...  \n",
              "14523  looking good bhk apartment tilak nagar delhi t...  \n",
              "14524  bhk independent house sale jaffarpur kalan del...  \n",
              "14525  property sale geeta colony delhi this bhk apar...  \n",
              "14526  check bhk apartment sale rohini delhi this pro...  \n",
              "14527  this independent dda house raw condition const...  \n",
              "\n",
              "[14528 rows x 5 columns]"
            ],
            "text/html": [
              "\n",
              "  <div id=\"df-7399dce9-c128-4a41-8d83-db83920b46b4\">\n",
              "    <div class=\"colab-df-container\">\n",
              "      <div>\n",
              "<style scoped>\n",
              "    .dataframe tbody tr th:only-of-type {\n",
              "        vertical-align: middle;\n",
              "    }\n",
              "\n",
              "    .dataframe tbody tr th {\n",
              "        vertical-align: top;\n",
              "    }\n",
              "\n",
              "    .dataframe thead th {\n",
              "        text-align: right;\n",
              "    }\n",
              "</style>\n",
              "<table border=\"1\" class=\"dataframe\">\n",
              "  <thead>\n",
              "    <tr style=\"text-align: right;\">\n",
              "      <th></th>\n",
              "      <th>Property Title</th>\n",
              "      <th>Total_Area</th>\n",
              "      <th>Price_per_SQFT</th>\n",
              "      <th>Description</th>\n",
              "      <th>cleanedtext</th>\n",
              "    </tr>\n",
              "  </thead>\n",
              "  <tbody>\n",
              "    <tr>\n",
              "      <th>0</th>\n",
              "      <td>4 BHK Flat for sale in Kanathur Reddikuppam, C...</td>\n",
              "      <td>2583</td>\n",
              "      <td>7700.0</td>\n",
              "      <td>Best 4 BHK Apartment for modern-day lifestyle ...</td>\n",
              "      <td>best bhk apartment modern day lifestyle availa...</td>\n",
              "    </tr>\n",
              "    <tr>\n",
              "      <th>1</th>\n",
              "      <td>10 BHK Independent House for sale in Pozhichal...</td>\n",
              "      <td>7000</td>\n",
              "      <td>3210.0</td>\n",
              "      <td>Looking for a 10 BHK Independent House for sal...</td>\n",
              "      <td>looking bhk independent house sale chennai you...</td>\n",
              "    </tr>\n",
              "    <tr>\n",
              "      <th>2</th>\n",
              "      <td>3 BHK Flat for sale in West Tambaram, Chennai</td>\n",
              "      <td>1320</td>\n",
              "      <td>7580.0</td>\n",
              "      <td>Property for sale in Tambaram, Chennai. This 3...</td>\n",
              "      <td>property sale tambaram chennai this bhk apartm...</td>\n",
              "    </tr>\n",
              "    <tr>\n",
              "      <th>3</th>\n",
              "      <td>7 BHK Independent House for sale in Triplicane...</td>\n",
              "      <td>4250</td>\n",
              "      <td>7840.0</td>\n",
              "      <td>Entire Building for sale with 7 units of singl...</td>\n",
              "      <td>entire building sale unit single bedroom unit ...</td>\n",
              "    </tr>\n",
              "    <tr>\n",
              "      <th>4</th>\n",
              "      <td>2 BHK Flat for sale in Avadi, Chennai</td>\n",
              "      <td>960</td>\n",
              "      <td>5000.0</td>\n",
              "      <td>Property for sale in Avadi, Chennai. This 2 BH...</td>\n",
              "      <td>property sale avadi chennai this bhk apartment...</td>\n",
              "    </tr>\n",
              "    <tr>\n",
              "      <th>...</th>\n",
              "      <td>...</td>\n",
              "      <td>...</td>\n",
              "      <td>...</td>\n",
              "      <td>...</td>\n",
              "      <td>...</td>\n",
              "    </tr>\n",
              "    <tr>\n",
              "      <th>14523</th>\n",
              "      <td>2 BHK Flat for sale in Tilak Nagar, New Delhi</td>\n",
              "      <td>1053</td>\n",
              "      <td>3800.0</td>\n",
              "      <td>Looking for a good 2 BHK Apartment in Tilak Na...</td>\n",
              "      <td>looking good bhk apartment tilak nagar delhi t...</td>\n",
              "    </tr>\n",
              "    <tr>\n",
              "      <th>14524</th>\n",
              "      <td>1 BHK Independent House for sale in Jaffarpur ...</td>\n",
              "      <td>472</td>\n",
              "      <td>2970.0</td>\n",
              "      <td>1 BHK Independent House for sale in Jaffarpur ...</td>\n",
              "      <td>bhk independent house sale jaffarpur kalan del...</td>\n",
              "    </tr>\n",
              "    <tr>\n",
              "      <th>14525</th>\n",
              "      <td>1 BHK Flat for sale in Geeta Colony, New Delhi</td>\n",
              "      <td>378</td>\n",
              "      <td>7940.0</td>\n",
              "      <td>Property for sale in Geeta Colony, Delhi. This...</td>\n",
              "      <td>property sale geeta colony delhi this bhk apar...</td>\n",
              "    </tr>\n",
              "    <tr>\n",
              "      <th>14526</th>\n",
              "      <td>3 BHK Flat for sale in Sector 16 Rohini, New D...</td>\n",
              "      <td>700</td>\n",
              "      <td>8570.0</td>\n",
              "      <td>Check out this 3 BHK Apartment for sale in Roh...</td>\n",
              "      <td>check bhk apartment sale rohini delhi this pro...</td>\n",
              "    </tr>\n",
              "    <tr>\n",
              "      <th>14527</th>\n",
              "      <td>1 RK Independent House for sale in Sector 3 Ro...</td>\n",
              "      <td>344</td>\n",
              "      <td>15990.0</td>\n",
              "      <td>This is an independent DDA house(in raw condit...</td>\n",
              "      <td>this independent dda house raw condition const...</td>\n",
              "    </tr>\n",
              "  </tbody>\n",
              "</table>\n",
              "<p>14528 rows × 5 columns</p>\n",
              "</div>\n",
              "      <button class=\"colab-df-convert\" onclick=\"convertToInteractive('df-7399dce9-c128-4a41-8d83-db83920b46b4')\"\n",
              "              title=\"Convert this dataframe to an interactive table.\"\n",
              "              style=\"display:none;\">\n",
              "        \n",
              "  <svg xmlns=\"http://www.w3.org/2000/svg\" height=\"24px\"viewBox=\"0 0 24 24\"\n",
              "       width=\"24px\">\n",
              "    <path d=\"M0 0h24v24H0V0z\" fill=\"none\"/>\n",
              "    <path d=\"M18.56 5.44l.94 2.06.94-2.06 2.06-.94-2.06-.94-.94-2.06-.94 2.06-2.06.94zm-11 1L8.5 8.5l.94-2.06 2.06-.94-2.06-.94L8.5 2.5l-.94 2.06-2.06.94zm10 10l.94 2.06.94-2.06 2.06-.94-2.06-.94-.94-2.06-.94 2.06-2.06.94z\"/><path d=\"M17.41 7.96l-1.37-1.37c-.4-.4-.92-.59-1.43-.59-.52 0-1.04.2-1.43.59L10.3 9.45l-7.72 7.72c-.78.78-.78 2.05 0 2.83L4 21.41c.39.39.9.59 1.41.59.51 0 1.02-.2 1.41-.59l7.78-7.78 2.81-2.81c.8-.78.8-2.07 0-2.86zM5.41 20L4 18.59l7.72-7.72 1.47 1.35L5.41 20z\"/>\n",
              "  </svg>\n",
              "      </button>\n",
              "      \n",
              "  <style>\n",
              "    .colab-df-container {\n",
              "      display:flex;\n",
              "      flex-wrap:wrap;\n",
              "      gap: 12px;\n",
              "    }\n",
              "\n",
              "    .colab-df-convert {\n",
              "      background-color: #E8F0FE;\n",
              "      border: none;\n",
              "      border-radius: 50%;\n",
              "      cursor: pointer;\n",
              "      display: none;\n",
              "      fill: #1967D2;\n",
              "      height: 32px;\n",
              "      padding: 0 0 0 0;\n",
              "      width: 32px;\n",
              "    }\n",
              "\n",
              "    .colab-df-convert:hover {\n",
              "      background-color: #E2EBFA;\n",
              "      box-shadow: 0px 1px 2px rgba(60, 64, 67, 0.3), 0px 1px 3px 1px rgba(60, 64, 67, 0.15);\n",
              "      fill: #174EA6;\n",
              "    }\n",
              "\n",
              "    [theme=dark] .colab-df-convert {\n",
              "      background-color: #3B4455;\n",
              "      fill: #D2E3FC;\n",
              "    }\n",
              "\n",
              "    [theme=dark] .colab-df-convert:hover {\n",
              "      background-color: #434B5C;\n",
              "      box-shadow: 0px 1px 3px 1px rgba(0, 0, 0, 0.15);\n",
              "      filter: drop-shadow(0px 1px 2px rgba(0, 0, 0, 0.3));\n",
              "      fill: #FFFFFF;\n",
              "    }\n",
              "  </style>\n",
              "\n",
              "      <script>\n",
              "        const buttonEl =\n",
              "          document.querySelector('#df-7399dce9-c128-4a41-8d83-db83920b46b4 button.colab-df-convert');\n",
              "        buttonEl.style.display =\n",
              "          google.colab.kernel.accessAllowed ? 'block' : 'none';\n",
              "\n",
              "        async function convertToInteractive(key) {\n",
              "          const element = document.querySelector('#df-7399dce9-c128-4a41-8d83-db83920b46b4');\n",
              "          const dataTable =\n",
              "            await google.colab.kernel.invokeFunction('convertToInteractive',\n",
              "                                                     [key], {});\n",
              "          if (!dataTable) return;\n",
              "\n",
              "          const docLinkHtml = 'Like what you see? Visit the ' +\n",
              "            '<a target=\"_blank\" href=https://colab.research.google.com/notebooks/data_table.ipynb>data table notebook</a>'\n",
              "            + ' to learn more about interactive tables.';\n",
              "          element.innerHTML = '';\n",
              "          dataTable['output_type'] = 'display_data';\n",
              "          await google.colab.output.renderOutput(dataTable, element);\n",
              "          const docLink = document.createElement('div');\n",
              "          docLink.innerHTML = docLinkHtml;\n",
              "          element.appendChild(docLink);\n",
              "        }\n",
              "      </script>\n",
              "    </div>\n",
              "  </div>\n",
              "  "
            ]
          },
          "metadata": {},
          "execution_count": 9
        }
      ],
      "source": [
        "df[\"cleanedtext\"] = res\n",
        "df"
      ]
    },
    {
      "cell_type": "code",
      "execution_count": null,
      "metadata": {
        "id": "cOVPTN8GARgq"
      },
      "outputs": [],
      "source": [
        "ww = stopwords.words('english')\n",
        "ww"
      ]
    },
    {
      "cell_type": "code",
      "execution_count": null,
      "metadata": {
        "id": "wgDz9DL8ovHE"
      },
      "outputs": [],
      "source": [
        "#если буквы русские\n",
        "#morph = MorphAnalyzer()\n",
        "#clean_text = [morph.parse(word)[0].normal_form for word in clean_text]"
      ]
    },
    {
      "cell_type": "code",
      "source": [
        "#Mount the Drive to the Colab\n",
        "drive.mount('/gdrive')\n",
        "\n",
        "#Write the DataFrame to csv file\n",
        "with open('/gdrive/My Drive/данные для проекта/final_dataset.csv', 'w') as f:\n",
        "  df.to_csv(f)"
      ],
      "metadata": {
        "colab": {
          "base_uri": "https://localhost:8080/"
        },
        "id": "ZF2i_6ZKVnlR",
        "outputId": "76732d51-167b-4517-ac11-d2823a6f1d5e"
      },
      "execution_count": null,
      "outputs": [
        {
          "output_type": "stream",
          "name": "stdout",
          "text": [
            "Drive already mounted at /gdrive; to attempt to forcibly remount, call drive.mount(\"/gdrive\", force_remount=True).\n"
          ]
        }
      ]
    },
    {
      "cell_type": "markdown",
      "metadata": {
        "id": "V9INpbnQsaAM"
      },
      "source": [
        "Build model"
      ]
    },
    {
      "cell_type": "markdown",
      "metadata": {
        "id": "Hgu2iEUI1My9"
      },
      "source": [
        "Plan:\\\n",
        "1)Apply Bag-of-Words\\\n",
        "2)Fit models with lasso-regularization and random forest regression\\\n",
        "3)Choose the most influencial features"
      ]
    },
    {
      "cell_type": "code",
      "execution_count": null,
      "metadata": {
        "id": "lz3sBl71zx2P",
        "colab": {
          "base_uri": "https://localhost:8080/"
        },
        "outputId": "428b19c2-9862-4bdb-be8e-2652a985acfc"
      },
      "outputs": [
        {
          "output_type": "execute_result",
          "data": {
            "text/plain": [
              "array(['pillagana', 'besant', 'prabhadevi', 'jalladianpet', 'worli',\n",
              "       'kilometer', 'sion', 'gujranwala', 'parel', 'bandra', 'bhuleshwar',\n",
              "       'vasanth', 'inder', 'kamathipura', 'dadar', 'mauza', 'shibrampur',\n",
              "       'sea', 'gamdevi', 'malabar', 'wadala', 'kamruddin', 'powai',\n",
              "       'paranur', 'kanaka', 'chickpete', 'lines', 'colaba', 'sivanchetti',\n",
              "       'doddakammanahalli', 'borivali', 'sewri', 'kanjurmarg', 'gorai',\n",
              "       'tellapur', 'kalbalu', 'gulabi', 'adyar', 'mavalli', 'paikpara',\n",
              "       'girgaon', 'nandambakkam', 'ghatkopar', 'umerkhadi', 'chembur',\n",
              "       'tri', 'azadpur', 'kalbadevi', 'mahim', 'shaikpet'], dtype=object)"
            ]
          },
          "metadata": {},
          "execution_count": 12
        }
      ],
      "source": [
        "#1st model: trying to use bag-of-words. Here we are calculating feature importance with using only chi-square, no modeling.\n",
        "vectorizer2 = CountVectorizer(analyzer = \"word\", tokenizer = None, preprocessor = None, stop_words = None, max_features = 5000)\n",
        "X = vectorizer2.fit_transform(df['cleanedtext']) \n",
        "chi2_scores, p_values = chi2(X, df['Price_per_SQFT'].astype('int'))\n",
        "significant_words = np.array(vectorizer2.get_feature_names_out())[chi2_scores.argsort()[::-1]][:50]\n",
        "significant_words"
      ]
    },
    {
      "cell_type": "code",
      "execution_count": 10,
      "metadata": {
        "id": "RZa2UD7VBdcR"
      },
      "outputs": [],
      "source": [
        "#1st model: trying to use bag-of-words. Here we are calculating whether the word is in the text or not and build a sparse matrix. Then build a dataframe from this sparse matrix.\n",
        "vectorizer = CountVectorizer(analyzer = \"word\", tokenizer = None, preprocessor = None, stop_words = None, max_features = 8000) #, ngram_range=(2, 2)\n",
        "train_data_features = vectorizer.fit_transform(res)\n",
        "\n",
        "vectors = train_data_features.toarray()\n",
        "names = vectorizer.get_feature_names_out()\n",
        "\n",
        "bag = pd.DataFrame(vectors)\n",
        "bag.columns = names"
      ]
    },
    {
      "cell_type": "code",
      "source": [
        "bag"
      ],
      "metadata": {
        "id": "Fjin-bVRQ-v7"
      },
      "execution_count": null,
      "outputs": []
    },
    {
      "cell_type": "code",
      "source": [
        "#create X and Y, then build a model\n",
        "X = bag.copy()\n",
        "Y = df['Price_per_SQFT'].astype('int').values.reshape(-1,1)\n",
        "\n",
        "x_train, x_test, y_train, y_test = train_test_split (X, Y, test_size = 0.3)"
      ],
      "metadata": {
        "id": "2Ifcn25sK51v"
      },
      "execution_count": 11,
      "outputs": []
    },
    {
      "cell_type": "code",
      "source": [
        "#build lasso-regularization to find the most significant features\n",
        "las = Lasso()\n",
        "mod = las.fit(x_train, y_train)\n",
        "las.score(x_train, y_train)\n",
        "lasso_results = pd.Series(las.coef_, index = x_train.columns).sort_values()"
      ],
      "metadata": {
        "colab": {
          "base_uri": "https://localhost:8080/"
        },
        "id": "abezFGk8WRfx",
        "outputId": "91cb57f5-ad89-481e-ca21-91903779c267"
      },
      "execution_count": 22,
      "outputs": [
        {
          "output_type": "stream",
          "name": "stderr",
          "text": [
            "/usr/local/lib/python3.9/dist-packages/sklearn/linear_model/_coordinate_descent.py:631: ConvergenceWarning: Objective did not converge. You might want to increase the number of iterations, check the scale of the features or consider increasing regularisation. Duality gap: 3.360e+12, tolerance: 2.484e+09\n",
            "  model = cd_fast.enet_coordinate_descent(\n"
          ]
        },
        {
          "output_type": "execute_result",
          "data": {
            "text/plain": [
              "slr          -854662.538879\n",
              "switching    -681584.406624\n",
              "bharatmata   -621856.431215\n",
              "chand        -571224.565910\n",
              "goel         -484914.413915\n",
              "                  ...      \n",
              "kumar         598506.770120\n",
              "mohanagar     668123.123968\n",
              "ace           779673.547063\n",
              "slab          808874.190582\n",
              "survey        826305.814620\n",
              "Length: 8000, dtype: float64"
            ]
          },
          "metadata": {},
          "execution_count": 22
        }
      ]
    },
    {
      "cell_type": "code",
      "source": [
        "importance = mod.coef_\n",
        "imp = []\n",
        "for i,v in enumerate(importance):\n",
        "  print('Feature: %0d, Score: %.5f' % (i,v))\n",
        "  imp.append('Feature: %0d, Score: %.5f' % (i,v))"
      ],
      "metadata": {
        "id": "0BlX2ESBNorD"
      },
      "execution_count": null,
      "outputs": []
    },
    {
      "cell_type": "code",
      "source": [
        "lasso_res = pd.DataFrame({'col_name': mod.coef_}, index = x_train.columns).sort_values(by = 'col_name', ascending=False)\n",
        "lasso_res"
      ],
      "metadata": {
        "colab": {
          "base_uri": "https://localhost:8080/",
          "height": 424
        },
        "id": "xXtyh1aI9IW0",
        "outputId": "2deed5bb-5240-44de-d3b6-3f28bae18513"
      },
      "execution_count": 30,
      "outputs": [
        {
          "output_type": "execute_result",
          "data": {
            "text/plain": [
              "                 col_name\n",
              "survey      826305.814620\n",
              "slab        808874.190582\n",
              "ace         779673.547063\n",
              "mohanagar   668123.123968\n",
              "kumar       598506.770120\n",
              "...                   ...\n",
              "goel       -484914.413915\n",
              "chand      -571224.565910\n",
              "bharatmata -621856.431215\n",
              "switching  -681584.406624\n",
              "slr        -854662.538879\n",
              "\n",
              "[8000 rows x 1 columns]"
            ],
            "text/html": [
              "\n",
              "  <div id=\"df-5bd5c45e-7695-4d26-be3e-dae3bb7910b0\">\n",
              "    <div class=\"colab-df-container\">\n",
              "      <div>\n",
              "<style scoped>\n",
              "    .dataframe tbody tr th:only-of-type {\n",
              "        vertical-align: middle;\n",
              "    }\n",
              "\n",
              "    .dataframe tbody tr th {\n",
              "        vertical-align: top;\n",
              "    }\n",
              "\n",
              "    .dataframe thead th {\n",
              "        text-align: right;\n",
              "    }\n",
              "</style>\n",
              "<table border=\"1\" class=\"dataframe\">\n",
              "  <thead>\n",
              "    <tr style=\"text-align: right;\">\n",
              "      <th></th>\n",
              "      <th>col_name</th>\n",
              "    </tr>\n",
              "  </thead>\n",
              "  <tbody>\n",
              "    <tr>\n",
              "      <th>survey</th>\n",
              "      <td>826305.814620</td>\n",
              "    </tr>\n",
              "    <tr>\n",
              "      <th>slab</th>\n",
              "      <td>808874.190582</td>\n",
              "    </tr>\n",
              "    <tr>\n",
              "      <th>ace</th>\n",
              "      <td>779673.547063</td>\n",
              "    </tr>\n",
              "    <tr>\n",
              "      <th>mohanagar</th>\n",
              "      <td>668123.123968</td>\n",
              "    </tr>\n",
              "    <tr>\n",
              "      <th>kumar</th>\n",
              "      <td>598506.770120</td>\n",
              "    </tr>\n",
              "    <tr>\n",
              "      <th>...</th>\n",
              "      <td>...</td>\n",
              "    </tr>\n",
              "    <tr>\n",
              "      <th>goel</th>\n",
              "      <td>-484914.413915</td>\n",
              "    </tr>\n",
              "    <tr>\n",
              "      <th>chand</th>\n",
              "      <td>-571224.565910</td>\n",
              "    </tr>\n",
              "    <tr>\n",
              "      <th>bharatmata</th>\n",
              "      <td>-621856.431215</td>\n",
              "    </tr>\n",
              "    <tr>\n",
              "      <th>switching</th>\n",
              "      <td>-681584.406624</td>\n",
              "    </tr>\n",
              "    <tr>\n",
              "      <th>slr</th>\n",
              "      <td>-854662.538879</td>\n",
              "    </tr>\n",
              "  </tbody>\n",
              "</table>\n",
              "<p>8000 rows × 1 columns</p>\n",
              "</div>\n",
              "      <button class=\"colab-df-convert\" onclick=\"convertToInteractive('df-5bd5c45e-7695-4d26-be3e-dae3bb7910b0')\"\n",
              "              title=\"Convert this dataframe to an interactive table.\"\n",
              "              style=\"display:none;\">\n",
              "        \n",
              "  <svg xmlns=\"http://www.w3.org/2000/svg\" height=\"24px\"viewBox=\"0 0 24 24\"\n",
              "       width=\"24px\">\n",
              "    <path d=\"M0 0h24v24H0V0z\" fill=\"none\"/>\n",
              "    <path d=\"M18.56 5.44l.94 2.06.94-2.06 2.06-.94-2.06-.94-.94-2.06-.94 2.06-2.06.94zm-11 1L8.5 8.5l.94-2.06 2.06-.94-2.06-.94L8.5 2.5l-.94 2.06-2.06.94zm10 10l.94 2.06.94-2.06 2.06-.94-2.06-.94-.94-2.06-.94 2.06-2.06.94z\"/><path d=\"M17.41 7.96l-1.37-1.37c-.4-.4-.92-.59-1.43-.59-.52 0-1.04.2-1.43.59L10.3 9.45l-7.72 7.72c-.78.78-.78 2.05 0 2.83L4 21.41c.39.39.9.59 1.41.59.51 0 1.02-.2 1.41-.59l7.78-7.78 2.81-2.81c.8-.78.8-2.07 0-2.86zM5.41 20L4 18.59l7.72-7.72 1.47 1.35L5.41 20z\"/>\n",
              "  </svg>\n",
              "      </button>\n",
              "      \n",
              "  <style>\n",
              "    .colab-df-container {\n",
              "      display:flex;\n",
              "      flex-wrap:wrap;\n",
              "      gap: 12px;\n",
              "    }\n",
              "\n",
              "    .colab-df-convert {\n",
              "      background-color: #E8F0FE;\n",
              "      border: none;\n",
              "      border-radius: 50%;\n",
              "      cursor: pointer;\n",
              "      display: none;\n",
              "      fill: #1967D2;\n",
              "      height: 32px;\n",
              "      padding: 0 0 0 0;\n",
              "      width: 32px;\n",
              "    }\n",
              "\n",
              "    .colab-df-convert:hover {\n",
              "      background-color: #E2EBFA;\n",
              "      box-shadow: 0px 1px 2px rgba(60, 64, 67, 0.3), 0px 1px 3px 1px rgba(60, 64, 67, 0.15);\n",
              "      fill: #174EA6;\n",
              "    }\n",
              "\n",
              "    [theme=dark] .colab-df-convert {\n",
              "      background-color: #3B4455;\n",
              "      fill: #D2E3FC;\n",
              "    }\n",
              "\n",
              "    [theme=dark] .colab-df-convert:hover {\n",
              "      background-color: #434B5C;\n",
              "      box-shadow: 0px 1px 3px 1px rgba(0, 0, 0, 0.15);\n",
              "      filter: drop-shadow(0px 1px 2px rgba(0, 0, 0, 0.3));\n",
              "      fill: #FFFFFF;\n",
              "    }\n",
              "  </style>\n",
              "\n",
              "      <script>\n",
              "        const buttonEl =\n",
              "          document.querySelector('#df-5bd5c45e-7695-4d26-be3e-dae3bb7910b0 button.colab-df-convert');\n",
              "        buttonEl.style.display =\n",
              "          google.colab.kernel.accessAllowed ? 'block' : 'none';\n",
              "\n",
              "        async function convertToInteractive(key) {\n",
              "          const element = document.querySelector('#df-5bd5c45e-7695-4d26-be3e-dae3bb7910b0');\n",
              "          const dataTable =\n",
              "            await google.colab.kernel.invokeFunction('convertToInteractive',\n",
              "                                                     [key], {});\n",
              "          if (!dataTable) return;\n",
              "\n",
              "          const docLinkHtml = 'Like what you see? Visit the ' +\n",
              "            '<a target=\"_blank\" href=https://colab.research.google.com/notebooks/data_table.ipynb>data table notebook</a>'\n",
              "            + ' to learn more about interactive tables.';\n",
              "          element.innerHTML = '';\n",
              "          dataTable['output_type'] = 'display_data';\n",
              "          await google.colab.output.renderOutput(dataTable, element);\n",
              "          const docLink = document.createElement('div');\n",
              "          docLink.innerHTML = docLinkHtml;\n",
              "          element.appendChild(docLink);\n",
              "        }\n",
              "      </script>\n",
              "    </div>\n",
              "  </div>\n",
              "  "
            ]
          },
          "metadata": {},
          "execution_count": 30
        }
      ]
    },
    {
      "cell_type": "code",
      "source": [
        "lasso_res[1:20]"
      ],
      "metadata": {
        "id": "9A1g5DkhEavN"
      },
      "execution_count": null,
      "outputs": []
    },
    {
      "cell_type": "code",
      "source": [
        "#Mount the Drive to the Colab\n",
        "drive.mount('/gdrive')\n",
        "\n",
        "#Write the DataFrame to csv file.\n",
        "with open('/gdrive/My Drive/данные для проекта/lasso_results.csv', 'w') as f:\n",
        "  lasso_results.to_csv(f)"
      ],
      "metadata": {
        "id": "2Vjk2lsI5x97"
      },
      "execution_count": null,
      "outputs": []
    },
    {
      "cell_type": "code",
      "source": [
        "reg = RandomForestRegressor (n_estimators = 100, bootstrap = True, max_depth = 5)\n",
        "mod1 = reg.fit(x_train, y_train.ravel())\n",
        "rf_results = pd.DataFrame({'col_name': mod1.feature_importances_}, index = x_train.columns).sort_values(by = 'col_name', ascending=False)"
      ],
      "metadata": {
        "id": "c7QdPPnSR3Po"
      },
      "execution_count": 26,
      "outputs": []
    },
    {
      "cell_type": "code",
      "source": [
        "rf_results[0:20]"
      ],
      "metadata": {
        "id": "vAw7Zrtw8mn4"
      },
      "execution_count": null,
      "outputs": []
    },
    {
      "cell_type": "code",
      "source": [
        "#Mount the Drive to the Colab\n",
        "drive.mount('/gdrive')\n",
        "\n",
        "#Write the DataFrame to csv file.\n",
        "with open('/gdrive/My Drive/данные для проекта/rf_results.csv', 'w') as f:\n",
        "  rf_results.to_csv(f)"
      ],
      "metadata": {
        "colab": {
          "base_uri": "https://localhost:8080/"
        },
        "id": "9cnUWfPXRf2J",
        "outputId": "d7fc3fe1-82f2-4614-b39a-f4b02045e8a6"
      },
      "execution_count": 18,
      "outputs": [
        {
          "output_type": "stream",
          "name": "stdout",
          "text": [
            "Mounted at /gdrive\n"
          ]
        }
      ]
    },
    {
      "cell_type": "code",
      "execution_count": null,
      "metadata": {
        "id": "aApWB2RxuDgk"
      },
      "outputs": [],
      "source": []
    }
  ],
  "metadata": {
    "colab": {
      "provenance": []
    },
    "kernelspec": {
      "display_name": "Python 3",
      "name": "python3"
    },
    "language_info": {
      "name": "python"
    }
  },
  "nbformat": 4,
  "nbformat_minor": 0
}